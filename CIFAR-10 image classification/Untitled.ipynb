{
 "cells": [
  {
   "cell_type": "code",
   "execution_count": 1,
   "id": "692ccc88",
   "metadata": {},
   "outputs": [],
   "source": [
    "import tensorflow as tf\n",
    "from tensorflow.keras import datasets, layers, models\n",
    "import matplotlib.pyplot as plt\n",
    "import numpy as np"
   ]
  },
  {
   "cell_type": "code",
   "execution_count": 2,
   "id": "9bb8af0c",
   "metadata": {},
   "outputs": [
    {
     "name": "stdout",
     "output_type": "stream",
     "text": [
      "Downloading data from https://www.cs.toronto.edu/~kriz/cifar-10-python.tar.gz\n",
      "170498071/170498071 [==============================] - 444s 3us/step\n"
     ]
    }
   ],
   "source": [
    "(X_train, y_train), (X_test, y_test) = datasets.cifar10.load_data()"
   ]
  },
  {
   "cell_type": "code",
   "execution_count": 19,
   "id": "8b412e35",
   "metadata": {},
   "outputs": [
    {
     "name": "stdout",
     "output_type": "stream",
     "text": [
      "(50000, 32, 32, 3)\n",
      "(10000, 32, 32, 3)\n",
      "(50000, 1)\n",
      "[[6]\n",
      " [9]\n",
      " [9]\n",
      " [4]\n",
      " [1]]\n"
     ]
    }
   ],
   "source": [
    "print(X_train.shape)\n",
    "print(X_test.shape)\n",
    "print(y_train.shape)\n",
    "print(y_train[:5])    # y is numbers, not labels\n",
    "# that 3 in the end is related to rgb colors"
   ]
  },
  {
   "cell_type": "code",
   "execution_count": 20,
   "id": "712eecca",
   "metadata": {},
   "outputs": [
    {
     "data": {
      "text/plain": [
       "array([6, 9, 9, 4, 1], dtype=uint8)"
      ]
     },
     "execution_count": 20,
     "metadata": {},
     "output_type": "execute_result"
    }
   ],
   "source": [
    "y_train = y_train.reshape(-1,)   # -1 means I don't want to change the first dimension\n",
    "y_train[:5]                      # now it is a 1-dimensional array"
   ]
  },
  {
   "cell_type": "code",
   "execution_count": 23,
   "id": "92d1e1ee",
   "metadata": {},
   "outputs": [],
   "source": [
    "classes = ['airplane', 'automobile', 'bird', 'cat', 'deer', 'dog', 'frog', 'horse', 'ship', 'truck']"
   ]
  },
  {
   "cell_type": "code",
   "execution_count": 51,
   "id": "5f292df8",
   "metadata": {},
   "outputs": [],
   "source": [
    "def plot_sample(X, y, y_p, index):\n",
    "    plt.figure(figsize=(15,2))   # better to see the image when it's smaller\n",
    "    plt.imshow(X[index])\n",
    "    plt.xlabel(\"True: {}, Predicted: {}\".format(classes[y[index]], classes[y_p[index]]))"
   ]
  },
  {
   "cell_type": "code",
   "execution_count": 25,
   "id": "4abe96d5",
   "metadata": {},
   "outputs": [
    {
     "data": {
      "image/png": "[encoded data removed]",
      "text/plain": [
       "<Figure size 1500x200 with 1 Axes>"
      ]
     },
     "metadata": {},
     "output_type": "display_data"
    }
   ],
   "source": [
    "plot_sample(X_train, y_train, 0)"
   ]
  },
  {
   "cell_type": "code",
   "execution_count": 27,
   "id": "cdbe20d8",
   "metadata": {},
   "outputs": [
    {
     "data": {
      "image/png": "[encoded data removed]",
      "text/plain": [
       "<Figure size 1500x200 with 1 Axes>"
      ]
     },
     "metadata": {},
     "output_type": "display_data"
    }
   ],
   "source": [
    "plot_sample(X_train, y_train, 2)"
   ]
  },
  {
   "cell_type": "markdown",
   "id": "1a10b6a3",
   "metadata": {},
   "source": [
    "Nomralizing Data"
   ]
  },
  {
   "cell_type": "code",
   "execution_count": 29,
   "id": "d66a2065",
   "metadata": {},
   "outputs": [],
   "source": [
    "# you have to normalize pixel values by 255 because it is a value between 0 and 255\n",
    "X_train = X_train / 255\n",
    "X_test = X_test / 255"
   ]
  },
  {
   "cell_type": "markdown",
   "id": "3d2e4db4",
   "metadata": {},
   "source": [
    "Building The CNN"
   ]
  },
  {
   "cell_type": "code",
   "execution_count": 31,
   "id": "450b2ff5",
   "metadata": {},
   "outputs": [
    {
     "name": "stdout",
     "output_type": "stream",
     "text": [
      "Epoch 1/5\n",
      "1563/1563 [==============================] - 48s 31ms/step - loss: 1.8131 - accuracy: 0.3517\n",
      "Epoch 2/5\n",
      "1563/1563 [==============================] - 48s 31ms/step - loss: 1.6218 - accuracy: 0.4269\n",
      "Epoch 3/5\n",
      "1563/1563 [==============================] - 48s 31ms/step - loss: 1.5412 - accuracy: 0.4575\n",
      "Epoch 4/5\n",
      "1563/1563 [==============================] - 48s 31ms/step - loss: 1.4808 - accuracy: 0.4781\n",
      "Epoch 5/5\n",
      "1563/1563 [==============================] - 48s 31ms/step - loss: 1.4325 - accuracy: 0.4952\n"
     ]
    },
    {
     "data": {
      "text/plain": [
       "<keras.callbacks.History at 0x2d5272489d0>"
      ]
     },
     "execution_count": 31,
     "metadata": {},
     "output_type": "execute_result"
    }
   ],
   "source": [
    "ann = models.Sequential([\n",
    "    layers.Flatten(input_shape=(32, 32, 3)),\n",
    "    layers.Dense(3000, activation='relu'),\n",
    "    layers.Dense(1000, activation='relu'),\n",
    "    layers.Dense(10, activation='sigmoid'),\n",
    "])\n",
    "\n",
    "ann.compile(optimizer='SGD', loss='sparse_categorical_crossentropy', metrics=['accuracy'])\n",
    "\n",
    "ann.fit(X_train, y_train, epochs=5)\n",
    "\n",
    "# you can see that ann doesn't perform well because the training cost is expensive and it\n",
    "# doesn't detect certain patterns in the image"
   ]
  },
  {
   "cell_type": "code",
   "execution_count": 37,
   "id": "6a6dbc2a",
   "metadata": {},
   "outputs": [
    {
     "name": "stdout",
     "output_type": "stream",
     "text": [
      "Epoch 1/20\n",
      "1563/1563 [==============================] - 26s 16ms/step - loss: 1.3936 - accuracy: 0.5022\n",
      "Epoch 2/20\n",
      "1563/1563 [==============================] - 24s 15ms/step - loss: 1.0624 - accuracy: 0.6281\n",
      "Epoch 3/20\n",
      "1563/1563 [==============================] - 25s 16ms/step - loss: 0.9200 - accuracy: 0.6804\n",
      "Epoch 4/20\n",
      "1563/1563 [==============================] - 26s 17ms/step - loss: 0.8294 - accuracy: 0.7136\n",
      "Epoch 5/20\n",
      "1563/1563 [==============================] - 25s 16ms/step - loss: 0.7563 - accuracy: 0.7376\n",
      "Epoch 6/20\n",
      "1563/1563 [==============================] - 25s 16ms/step - loss: 0.6953 - accuracy: 0.7589\n",
      "Epoch 7/20\n",
      "1563/1563 [==============================] - 24s 15ms/step - loss: 0.6409 - accuracy: 0.7765\n",
      "Epoch 8/20\n",
      "1563/1563 [==============================] - 24s 16ms/step - loss: 0.5914 - accuracy: 0.7922\n",
      "Epoch 9/20\n",
      "1563/1563 [==============================] - 24s 15ms/step - loss: 0.5420 - accuracy: 0.8102\n",
      "Epoch 10/20\n",
      "1563/1563 [==============================] - 22s 14ms/step - loss: 0.4994 - accuracy: 0.8260\n",
      "Epoch 11/20\n",
      "1563/1563 [==============================] - 24s 15ms/step - loss: 0.4605 - accuracy: 0.8385\n",
      "Epoch 12/20\n",
      "1563/1563 [==============================] - 25s 16ms/step - loss: 0.4231 - accuracy: 0.8503\n",
      "Epoch 13/20\n",
      "1563/1563 [==============================] - 24s 15ms/step - loss: 0.3872 - accuracy: 0.8635\n",
      "Epoch 14/20\n",
      "1563/1563 [==============================] - 24s 15ms/step - loss: 0.3530 - accuracy: 0.8764\n",
      "Epoch 15/20\n",
      "1563/1563 [==============================] - 24s 15ms/step - loss: 0.3257 - accuracy: 0.8832\n",
      "Epoch 16/20\n",
      "1563/1563 [==============================] - 23s 15ms/step - loss: 0.2955 - accuracy: 0.8944\n",
      "Epoch 17/20\n",
      "1563/1563 [==============================] - 24s 15ms/step - loss: 0.2654 - accuracy: 0.9061\n",
      "Epoch 18/20\n",
      "1563/1563 [==============================] - 24s 15ms/step - loss: 0.2473 - accuracy: 0.9120\n",
      "Epoch 19/20\n",
      "1563/1563 [==============================] - 24s 15ms/step - loss: 0.2245 - accuracy: 0.9205\n",
      "Epoch 20/20\n",
      "1563/1563 [==============================] - 24s 16ms/step - loss: 0.2117 - accuracy: 0.9248\n"
     ]
    },
    {
     "data": {
      "text/plain": [
       "<keras.callbacks.History at 0x2d527529c10>"
      ]
     },
     "execution_count": 37,
     "metadata": {},
     "output_type": "execute_result"
    }
   ],
   "source": [
    "cnn = models.Sequential([\n",
    "    # cnn\n",
    "    layers.Conv2D(filters=32, kernel_size=(3, 3), activation='relu', input_shape=(32,32,3)),\n",
    "    layers.MaxPooling2D((2,2)),\n",
    "    # 32 pattern detectors or filters are used in the first Conv layer\n",
    "    # MaxPooling will use a 2 by 2 grid\n",
    "    \n",
    "    layers.Conv2D(filters=64, kernel_size=(3, 3), activation='relu'),\n",
    "    layers.MaxPooling2D((2,2)),\n",
    "    \n",
    "    # dense\n",
    "    layers.Flatten(),\n",
    "    layers.Dense(64, activation='relu'),     # using lesser neurons and nodes because cnn did most of the work\n",
    "    layers.Dense(10, activation='softmax'),  # using softmax for nonlinear equation\n",
    "])\n",
    "    \n",
    "cnn.compile(optimizer='adam', loss='sparse_categorical_crossentropy', metrics=['accuracy'])\n",
    "cnn.fit(X_train, y_train, epochs=20)"
   ]
  },
  {
   "cell_type": "code",
   "execution_count": 38,
   "id": "2c44b23b",
   "metadata": {},
   "outputs": [
    {
     "name": "stdout",
     "output_type": "stream",
     "text": [
      "313/313 [==============================] - 3s 9ms/step - loss: 1.5780 - accuracy: 0.6833\n"
     ]
    },
    {
     "data": {
      "text/plain": [
       "[1.577986478805542, 0.6833000183105469]"
      ]
     },
     "execution_count": 38,
     "metadata": {},
     "output_type": "execute_result"
    }
   ],
   "source": [
    "cnn.evaluate(X_test, y_test)"
   ]
  },
  {
   "cell_type": "code",
   "execution_count": 40,
   "id": "7ee7bc6c",
   "metadata": {},
   "outputs": [
    {
     "data": {
      "text/plain": [
       "array([3, 8, 8, 0, 6], dtype=uint8)"
      ]
     },
     "execution_count": 40,
     "metadata": {},
     "output_type": "execute_result"
    }
   ],
   "source": [
    "y_test = y_test.reshape(-1,)\n",
    "y_test[:5]"
   ]
  },
  {
   "cell_type": "code",
   "execution_count": 41,
   "id": "f925afb3",
   "metadata": {},
   "outputs": [
    {
     "data": {
      "image/png": "[encoded data removed]",
      "text/plain": [
       "<Figure size 1500x200 with 1 Axes>"
      ]
     },
     "metadata": {},
     "output_type": "display_data"
    }
   ],
   "source": [
    "plot_sample(X_test, y_test, 1)"
   ]
  },
  {
   "cell_type": "code",
   "execution_count": 43,
   "id": "d3f5a4dc",
   "metadata": {},
   "outputs": [
    {
     "name": "stdout",
     "output_type": "stream",
     "text": [
      "313/313 [==============================] - 2s 6ms/step\n"
     ]
    }
   ],
   "source": [
    "y_pred = cnn.predict(X_test)\n",
    "y_classes = [np.argmax(element) for element in y_pred]"
   ]
  },
  {
   "cell_type": "code",
   "execution_count": 61,
   "id": "727c0dd7",
   "metadata": {},
   "outputs": [
    {
     "data": {
      "image/png": "[encoded data removed]",
      "text/plain": [
       "<Figure size 1500x200 with 1 Axes>"
      ]
     },
     "metadata": {},
     "output_type": "display_data"
    }
   ],
   "source": [
    "plot_sample(X_test, y_test, y_classes, np.random.choice(len(X_test)))"
   ]
  },
  {
   "cell_type": "code",
   "execution_count": null,
   "id": "787ff511",
   "metadata": {},
   "outputs": [],
   "source": []
  }
 ],
 "metadata": {
  "kernelspec": {
   "display_name": "Python 3 (ipykernel)",
   "language": "python",
   "name": "python3"
  },
  "language_info": {
   "codemirror_mode": {
    "name": "ipython",
    "version": 3
   },
   "file_extension": ".py",
   "mimetype": "text/x-python",
   "name": "python",
   "nbconvert_exporter": "python",
   "pygments_lexer": "ipython3",
   "version": "3.11.0"
  }
 },
 "nbformat": 4,
 "nbformat_minor": 5
}
